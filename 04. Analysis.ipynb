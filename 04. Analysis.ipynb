{
 "cells": [
  {
   "cell_type": "code",
   "execution_count": 1,
   "id": "a2e7a1e1",
   "metadata": {},
   "outputs": [],
   "source": [
    "import pandas as pd\n",
    "from helperfunctions import *"
   ]
  },
  {
   "cell_type": "code",
   "execution_count": 2,
   "id": "cd8ac350",
   "metadata": {},
   "outputs": [
    {
     "name": "stdout",
     "output_type": "stream",
     "text": [
      "\n",
      "==========================================================================================\n",
      "MODEL REGISTRY - BEST PERFORMING MODELS (Sorted by R2)\n",
      "==========================================================================================\n",
      "                    model_name scaler_type       mse      mae     rmse       r2       timestamp\n",
      "    Random Forest Tuned (GSCV)      minmax  7.026586 1.944200 2.650771 0.906945 20250713_035443\n",
      "    Random Forest Tuned (GSCV)    standard  7.071511 1.945986 2.659231 0.906350 20250713_132945\n",
      "    Random Forest Tuned (GSCV)      robust  7.074818 1.947230 2.659853 0.906306 20250713_160549\n",
      "              SVR Tuned (GSCV)      minmax  7.597422 1.998277 2.756342 0.899385 20250713_030350\n",
      "              SVR Tuned (RSCV)      minmax  7.880908 2.033438 2.807296 0.895631 20250713_035450\n",
      "    Random Forest Tuned (RSCV)      minmax  8.081022 2.211931 2.842714 0.892981 20250713_035719\n",
      "    Random Forest Tuned (RSCV)      robust  8.081069 2.213721 2.842722 0.892980 20250713_160843\n",
      "    Random Forest Tuned (RSCV)    standard  8.086352 2.211742 2.843651 0.892910 20250713_133247\n",
      "              SVR Tuned (RSCV)    standard  8.737553 2.177506 2.955935 0.884286 20250713_133000\n",
      "              SVR Tuned (GSCV)    standard  8.737755 2.177549 2.955969 0.884284 20250713_075631\n",
      "                 Random Forest      minmax  8.847735 2.158902 2.974514 0.882827 20250713_025743\n",
      "                 Random Forest      robust  8.890182 2.164127 2.981641 0.882265 20250713_133700\n",
      "                 Random Forest    standard  8.891755 2.161333 2.981905 0.882244 20250713_074142\n",
      "              SVR Tuned (RSCV)      robust  9.813034 2.299571 3.132576 0.870043 20250713_160608\n",
      "              SVR Tuned (GSCV)      robust  9.813034 2.299571 3.132576 0.870043 20250713_151251\n",
      "                 Decision Tree      minmax 15.175882 2.827451 3.895623 0.799022 20250713_025743\n",
      "    Decision Tree Tuned (RSCV)      robust 15.964036 2.919829 3.995502 0.788584 20250713_160551\n",
      "    Decision Tree Tuned (RSCV)      minmax 15.964036 2.919829 3.995502 0.788584 20250713_035444\n",
      "    Decision Tree Tuned (RSCV)    standard 15.993954 2.926051 3.999244 0.788188 20250713_132947\n",
      "                 Decision Tree    standard 16.705098 2.976471 4.087187 0.778770 20250713_074141\n",
      "    Decision Tree Tuned (GSCV)      minmax 17.152746 3.139837 4.141587 0.772842 20250713_025800\n",
      "    Decision Tree Tuned (GSCV)      robust 17.152746 3.139837 4.141587 0.772842 20250713_133718\n",
      "    Decision Tree Tuned (GSCV)    standard 17.152746 3.139837 4.141587 0.772842 20250713_074200\n",
      "Linear Regression Tuned (RSCV)      robust 20.781035 3.446396 4.558622 0.724791 20250713_160550\n",
      "Linear Regression Tuned (GSCV)      robust 20.781035 3.446396 4.558622 0.724791 20250713_133703\n",
      "             Linear Regression      robust 20.781035 3.446396 4.558622 0.724791 20250713_133659\n",
      "Linear Regression Tuned (GSCV)      minmax 20.781035 3.446396 4.558622 0.724791 20250713_025746\n",
      "             Linear Regression      minmax 20.781035 3.446396 4.558622 0.724791 20250713_025655\n",
      "Linear Regression Tuned (RSCV)    standard 20.781035 3.446396 4.558622 0.724791 20250713_132945\n",
      "Linear Regression Tuned (GSCV)    standard 20.781035 3.446396 4.558622 0.724791 20250713_074145\n",
      "             Linear Regression    standard 20.781035 3.446396 4.558622 0.724791 20250713_074141\n",
      "Linear Regression Tuned (RSCV)      minmax 20.781035 3.446396 4.558622 0.724791 20250713_035443\n",
      "                           SVR    standard 22.414282 2.949382 4.734372 0.703162 20250713_074142\n",
      "                           SVR      robust 24.362684 3.170255 4.935857 0.677359 20250713_133700\n",
      "                           SVR      minmax 26.072943 3.264462 5.106167 0.654709 20250713_025743\n",
      "                 Decision Tree      robust 29.759216 3.084314 5.455201 0.605891 20250713_133659\n"
     ]
    }
   ],
   "source": [
    "show_model_registry_regression()"
   ]
  },
  {
   "cell_type": "code",
   "execution_count": 3,
   "id": "4926b912",
   "metadata": {},
   "outputs": [
    {
     "name": "stdout",
     "output_type": "stream",
     "text": [
      "\n",
      "==========================================================================================\n",
      "CLASSIFICATION MODEL REGISTRY - BEST PERFORMING MODELS (Sorted by F1)\n",
      "==========================================================================================\n",
      "                      model_name scaler_type  accuracy  precision   recall       f1       timestamp\n",
      "    Gradient Boosting Classifier      minmax  0.882353   0.886695 0.882353 0.881223 20250713_024840\n",
      "    Gradient Boosting Classifier    standard  0.882353   0.886695 0.882353 0.881223 20250713_133306\n",
      "    Gradient Boosting Classifier      robust  0.882353   0.886695 0.882353 0.881223 20250713_160901\n",
      "             Stacking Classifier      robust  0.882353   0.887062 0.882353 0.879951 20250713_160917\n",
      "             LightGBM Classifier    standard  0.872549   0.877976 0.872549 0.871714 20250713_133315\n",
      "             Stacking Classifier      minmax  0.872549   0.878715 0.872549 0.869071 20250713_025126\n",
      "        Random Forest Classifier      robust  0.872549   0.878715 0.872549 0.869071 20250713_160845\n",
      "             Stacking Classifier    standard  0.872549   0.878715 0.872549 0.869071 20250713_133326\n",
      "        Random Forest Classifier      minmax  0.862745   0.865071 0.862745 0.859377 20250711_151813\n",
      "        Random Forest Classifier    standard  0.862745   0.865071 0.862745 0.859377 20250713_133249\n",
      "             LightGBM Classifier      minmax  0.852941   0.855561 0.852941 0.852279 20250713_025003\n",
      "             LightGBM Classifier      robust  0.843137   0.846533 0.843137 0.842687 20250713_160908\n",
      "Bagging Random Forest Classifier    standard  0.843137   0.844004 0.843137 0.840568 20250713_133257\n",
      "Bagging Random Forest Classifier      minmax  0.843137   0.844004 0.843137 0.840568 20250713_024755\n",
      "Bagging Random Forest Classifier      robust  0.843137   0.844004 0.843137 0.840568 20250713_160853\n",
      "                  SVM Classifier    standard  0.813725   0.811469 0.813725 0.810881 20250713_133250\n",
      "             Logistic Regression      robust  0.803922   0.803141 0.803922 0.801654 20250713_160844\n",
      "             Logistic Regression    standard  0.784314   0.784717 0.784314 0.784214 20250713_133247\n",
      "             AdaBoost Classifier      robust  0.784314   0.784514 0.784314 0.783972 20250713_160903\n",
      "             AdaBoost Classifier      minmax  0.784314   0.784514 0.784314 0.783972 20250713_024915\n",
      "             AdaBoost Classifier    standard  0.784314   0.784514 0.784314 0.783972 20250713_133307\n",
      "     Bagging Logistic Regression    standard  0.774510   0.778306 0.774510 0.771527 20250713_133251\n",
      "     Bagging Logistic Regression      robust  0.774510   0.778306 0.774510 0.771527 20250713_160847\n",
      "                  SVM Classifier      robust  0.754902   0.765998 0.754902 0.753751 20250713_160846\n",
      "          Bagging SVM Classifier    standard  0.754902   0.762403 0.754902 0.752179 20250713_133304\n",
      "          Bagging SVM Classifier      robust  0.745098   0.748473 0.745098 0.744184 20250713_160859\n",
      "     Bagging Logistic Regression      minmax  0.745098   0.752305 0.745098 0.739577 20250713_024551\n",
      "                  SVM Classifier      minmax  0.735294   0.735075 0.735294 0.734534 20250711_151813\n",
      "             Logistic Regression      minmax  0.735294   0.735801 0.735294 0.731877 20250711_151812\n",
      "          Bagging SVM Classifier      minmax  0.725490   0.729597 0.725490 0.722912 20250713_024820\n"
     ]
    }
   ],
   "source": [
    "show_model_registry_classification()"
   ]
  }
 ],
 "metadata": {
  "kernelspec": {
   "display_name": ".venv",
   "language": "python",
   "name": "python3"
  },
  "language_info": {
   "codemirror_mode": {
    "name": "ipython",
    "version": 3
   },
   "file_extension": ".py",
   "mimetype": "text/x-python",
   "name": "python",
   "nbconvert_exporter": "python",
   "pygments_lexer": "ipython3",
   "version": "3.13.5"
  }
 },
 "nbformat": 4,
 "nbformat_minor": 5
}
